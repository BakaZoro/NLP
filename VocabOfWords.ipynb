{
  "nbformat": 4,
  "nbformat_minor": 0,
  "metadata": {
    "colab": {
      "name": "VocabOfWords.ipynb",
      "provenance": [],
      "collapsed_sections": []
    },
    "kernelspec": {
      "name": "python3",
      "display_name": "Python 3"
    }
  },
  "cells": [
    {
      "cell_type": "code",
      "metadata": {
        "id": "9cxxG6rveVrf",
        "colab_type": "code",
        "colab": {}
      },
      "source": [
        "import pandas as pd\n",
        "\n",
        "text=['Machine learning is an application of artificial intelligence (AI) that provides systems the ability to automatically learn and improve from experience without being explicitly programmed','Machine learning focuses on the development of computer programs that can access data and use it learn for themselves.','The process of learning begins with observations or data','The primary aim is to allow the computers learn automatically without human intervention','But, using the classic algorithms of machine learning, text is considered as a sequence of keywords; instead, an approach based on semantic analysis mimics the human ability to understand the meaning of a text']"
      ],
      "execution_count": 0,
      "outputs": []
    },
    {
      "cell_type": "code",
      "metadata": {
        "id": "O3rSMjXKe-Yc",
        "colab_type": "code",
        "colab": {}
      },
      "source": [
        "df=pd.DataFrame(text,columns=['Text'])"
      ],
      "execution_count": 0,
      "outputs": []
    },
    {
      "cell_type": "code",
      "metadata": {
        "id": "qXSkSI07fBpM",
        "colab_type": "code",
        "colab": {
          "base_uri": "https://localhost:8080/",
          "height": 191
        },
        "outputId": "7966b5de-f197-41c9-c016-ca9d027abd3c"
      },
      "source": [
        "df"
      ],
      "execution_count": 13,
      "outputs": [
        {
          "output_type": "execute_result",
          "data": {
            "text/html": [
              "<div>\n",
              "<style scoped>\n",
              "    .dataframe tbody tr th:only-of-type {\n",
              "        vertical-align: middle;\n",
              "    }\n",
              "\n",
              "    .dataframe tbody tr th {\n",
              "        vertical-align: top;\n",
              "    }\n",
              "\n",
              "    .dataframe thead th {\n",
              "        text-align: right;\n",
              "    }\n",
              "</style>\n",
              "<table border=\"1\" class=\"dataframe\">\n",
              "  <thead>\n",
              "    <tr style=\"text-align: right;\">\n",
              "      <th></th>\n",
              "      <th>Text</th>\n",
              "    </tr>\n",
              "  </thead>\n",
              "  <tbody>\n",
              "    <tr>\n",
              "      <th>0</th>\n",
              "      <td>Machine learning is an application of artifici...</td>\n",
              "    </tr>\n",
              "    <tr>\n",
              "      <th>1</th>\n",
              "      <td>Machine learning focuses on the development of...</td>\n",
              "    </tr>\n",
              "    <tr>\n",
              "      <th>2</th>\n",
              "      <td>The process of learning begins with observatio...</td>\n",
              "    </tr>\n",
              "    <tr>\n",
              "      <th>3</th>\n",
              "      <td>The primary aim is to allow the computers lear...</td>\n",
              "    </tr>\n",
              "    <tr>\n",
              "      <th>4</th>\n",
              "      <td>But, using the classic algorithms of machine l...</td>\n",
              "    </tr>\n",
              "  </tbody>\n",
              "</table>\n",
              "</div>"
            ],
            "text/plain": [
              "                                                Text\n",
              "0  Machine learning is an application of artifici...\n",
              "1  Machine learning focuses on the development of...\n",
              "2  The process of learning begins with observatio...\n",
              "3  The primary aim is to allow the computers lear...\n",
              "4  But, using the classic algorithms of machine l..."
            ]
          },
          "metadata": {
            "tags": []
          },
          "execution_count": 13
        }
      ]
    },
    {
      "cell_type": "code",
      "metadata": {
        "id": "j5CAV6tocue8",
        "colab_type": "code",
        "colab": {}
      },
      "source": [
        "import nltk\n",
        "from nltk.tokenize import word_tokenize"
      ],
      "execution_count": 0,
      "outputs": []
    },
    {
      "cell_type": "code",
      "metadata": {
        "id": "Rq-g0vcVfVKR",
        "colab_type": "code",
        "colab": {
          "base_uri": "https://localhost:8080/",
          "height": 66
        },
        "outputId": "0fbf0a47-ec14-4e6d-e77f-4355385855a7"
      },
      "source": [
        "# #In case the punkt package is missing \n",
        "nltk.download('punkt')"
      ],
      "execution_count": 15,
      "outputs": [
        {
          "output_type": "stream",
          "text": [
            "[nltk_data] Downloading package punkt to /root/nltk_data...\n",
            "[nltk_data]   Package punkt is already up-to-date!\n"
          ],
          "name": "stdout"
        },
        {
          "output_type": "execute_result",
          "data": {
            "text/plain": [
              "True"
            ]
          },
          "metadata": {
            "tags": []
          },
          "execution_count": 15
        }
      ]
    },
    {
      "cell_type": "code",
      "metadata": {
        "id": "x-4aJZpafXqp",
        "colab_type": "code",
        "colab": {
          "base_uri": "https://localhost:8080/",
          "height": 66
        },
        "outputId": "3d63173f-3b34-46bb-839d-037497f08cd4"
      },
      "source": [
        "# #In case the stopwords package is missing\n",
        "nltk.download('stopwords')"
      ],
      "execution_count": 16,
      "outputs": [
        {
          "output_type": "stream",
          "text": [
            "[nltk_data] Downloading package stopwords to /root/nltk_data...\n",
            "[nltk_data]   Package stopwords is already up-to-date!\n"
          ],
          "name": "stdout"
        },
        {
          "output_type": "execute_result",
          "data": {
            "text/plain": [
              "True"
            ]
          },
          "metadata": {
            "tags": []
          },
          "execution_count": 16
        }
      ]
    },
    {
      "cell_type": "code",
      "metadata": {
        "id": "Po1aFCZ6fbs6",
        "colab_type": "code",
        "colab": {}
      },
      "source": [
        "#For removing the stop words\n",
        "from nltk.corpus import stopwords\n",
        "stop_words = set(stopwords.words('english'))"
      ],
      "execution_count": 0,
      "outputs": []
    },
    {
      "cell_type": "code",
      "metadata": {
        "id": "qFXSZY3Nf8Ym",
        "colab_type": "code",
        "colab": {}
      },
      "source": [
        "#BREAKING DOWN WORDS  \n",
        "text_words=df.Text.str.cat(sep=' ')"
      ],
      "execution_count": 0,
      "outputs": []
    },
    {
      "cell_type": "code",
      "metadata": {
        "id": "HQl4AkRrgxIK",
        "colab_type": "code",
        "colab": {}
      },
      "source": [
        "#function to split text into word\n",
        "tokens = word_tokenize(text_words)\n",
        "vocabulary = set(tokens)"
      ],
      "execution_count": 0,
      "outputs": []
    },
    {
      "cell_type": "code",
      "metadata": {
        "id": "k8QCHcsbiBqz",
        "colab_type": "code",
        "colab": {
          "base_uri": "https://localhost:8080/",
          "height": 33
        },
        "outputId": "745f5196-55c3-4f9b-e03b-70f1f06d8fb8"
      },
      "source": [
        "print(len(vocabulary))"
      ],
      "execution_count": 21,
      "outputs": [
        {
          "output_type": "stream",
          "text": [
            "73\n"
          ],
          "name": "stdout"
        }
      ]
    },
    {
      "cell_type": "code",
      "metadata": {
        "id": "Rko7_zZQiE91",
        "colab_type": "code",
        "colab": {
          "base_uri": "https://localhost:8080/",
          "height": 53
        },
        "outputId": "e182827d-5119-4771-c6f6-33607ab6f559"
      },
      "source": [
        "#WITH STOP WORDS\n",
        "print(vocabulary)"
      ],
      "execution_count": 22,
      "outputs": [
        {
          "output_type": "stream",
          "text": [
            "{'computers', 'sequence', 'approach', 'Machine', 'data', 'automatically', 'algorithms', 'understand', 'begins', 'aim', 'that', 'without', 'being', ';', 'development', 'mimics', 'primary', 'themselves', 'application', 'improve', '.', 'intervention', 'learn', '(', 'classic', ')', 'provides', 'focuses', 'use', 'The', 'it', 'observations', 'analysis', 'considered', 'intelligence', 'with', 'access', 'systems', 'explicitly', 'based', 'for', 'a', 'experience', 'AI', 'an', 'text', 'and', 'programmed', 'on', 'can', 'artificial', 'or', 'to', 'allow', 'is', 'But', 'the', 'using', 'machine', 'learning', 'computer', 'programs', 'human', 'as', 'keywords', 'instead', 'semantic', 'meaning', 'from', 'of', 'process', 'ability', ','}\n"
          ],
          "name": "stdout"
        }
      ]
    },
    {
      "cell_type": "code",
      "metadata": {
        "id": "1WmnRk2Wh24E",
        "colab_type": "code",
        "colab": {}
      },
      "source": [
        "#THIS IS IMPORTANT BECAUSE OTHERWISE WORDS LIKE 'THE','AN','A','AND' ETC. HAVE THE HIGHEST FREQUENCY AND SINCE THEY DO NOT HELP MUCH THEY ARE NOT OF MUCH USE\n",
        "\n",
        "#REMOVING STOP WORDS\n",
        "tokens = [w for w in tokens if not w in stop_words]"
      ],
      "execution_count": 0,
      "outputs": []
    },
    {
      "cell_type": "code",
      "metadata": {
        "id": "TFREsLy9iMdq",
        "colab_type": "code",
        "colab": {}
      },
      "source": [
        "vocabulary = set(tokens)"
      ],
      "execution_count": 0,
      "outputs": []
    },
    {
      "cell_type": "code",
      "metadata": {
        "id": "VdmRs1kthpwF",
        "colab_type": "code",
        "colab": {
          "base_uri": "https://localhost:8080/",
          "height": 33
        },
        "outputId": "d3ac79b3-ee8b-4080-cd65-72f296d7ff70"
      },
      "source": [
        "print(len(vocabulary))"
      ],
      "execution_count": 26,
      "outputs": [
        {
          "output_type": "stream",
          "text": [
            "55\n"
          ],
          "name": "stdout"
        }
      ]
    },
    {
      "cell_type": "code",
      "metadata": {
        "id": "M7X3CIHfhtQE",
        "colab_type": "code",
        "colab": {
          "base_uri": "https://localhost:8080/",
          "height": 53
        },
        "outputId": "442dfdf0-2314-4e39-e50c-abbe6e8b6a32"
      },
      "source": [
        "#WITHOUT STOP WORDS\n",
        "print(vocabulary)"
      ],
      "execution_count": 28,
      "outputs": [
        {
          "output_type": "stream",
          "text": [
            "{'computers', 'sequence', 'approach', 'Machine', 'data', 'automatically', 'algorithms', 'understand', 'begins', 'aim', 'without', ';', 'development', 'mimics', 'primary', 'application', 'improve', '.', 'intervention', 'learn', '(', 'classic', 'focuses', ')', 'provides', 'use', 'The', 'observations', 'analysis', 'considered', 'intelligence', 'access', 'systems', 'explicitly', 'based', 'experience', 'AI', 'text', 'programmed', 'But', 'artificial', 'allow', 'using', 'machine', 'learning', 'computer', 'programs', 'human', 'keywords', 'instead', 'semantic', 'meaning', 'process', 'ability', ','}\n"
          ],
          "name": "stdout"
        }
      ]
    }
  ]
}